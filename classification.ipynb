{
 "cells": [
  {
   "cell_type": "code",
   "execution_count": 1,
   "metadata": {},
   "outputs": [],
   "source": [
    "import os\n",
    "import matplotlib.pyplot as plt\n",
    "import numpy as np\n",
    "from tensorflow.keras import layers, models\n",
    "from tensorflow.keras.preprocessing.image import ImageDataGenerator\n",
    "import json\n",
    "from PIL import Image"
   ]
  },
  {
   "cell_type": "code",
   "execution_count": 2,
   "metadata": {},
   "outputs": [],
   "source": [
    "base_dir='Medicinal plant dataset'"
   ]
  },
  {
   "cell_type": "code",
   "execution_count": 3,
   "metadata": {},
   "outputs": [],
   "source": [
    "img_size=128\n",
    "batch_size=12"
   ]
  },
  {
   "cell_type": "code",
   "execution_count": 4,
   "metadata": {},
   "outputs": [],
   "source": [
    "data_gen=ImageDataGenerator(\n",
    "    rescale=1./255,\n",
    "    validation_split=0.2\n",
    ")"
   ]
  },
  {
   "cell_type": "code",
   "execution_count": 5,
   "metadata": {},
   "outputs": [
    {
     "name": "stdout",
     "output_type": "stream",
     "text": [
      "Found 4765 images belonging to 40 classes.\n"
     ]
    }
   ],
   "source": [
    "train_generator = data_gen.flow_from_directory(\n",
    "    base_dir,\n",
    "    target_size=(img_size,img_size),\n",
    "    batch_size=batch_size,\n",
    "    subset='training',\n",
    "    class_mode='categorical'\n",
    ")"
   ]
  },
  {
   "cell_type": "code",
   "execution_count": 6,
   "metadata": {},
   "outputs": [
    {
     "name": "stdout",
     "output_type": "stream",
     "text": [
      "Found 1180 images belonging to 40 classes.\n"
     ]
    }
   ],
   "source": [
    "validation_generator = data_gen.flow_from_directory(\n",
    "    base_dir,\n",
    "    target_size=(img_size,img_size),\n",
    "    batch_size=batch_size,\n",
    "    subset='validation',\n",
    "    class_mode='categorical'\n",
    ")"
   ]
  },
  {
   "cell_type": "code",
   "execution_count": 7,
   "metadata": {},
   "outputs": [],
   "source": [
    "model = models.Sequential()\n",
    "\n",
    "model.add(layers.Conv2D(32,(3,3),activation='relu',input_shape=(img_size,img_size,3)))\n",
    "model.add(layers.MaxPooling2D(2,2))\n",
    "\n",
    "model.add(layers.Conv2D(64,(3,3),activation='relu'))\n",
    "model.add(layers.MaxPooling2D(2,2))\n",
    "\n",
    "model.add(layers.Flatten())\n",
    "model.add(layers.Dense(256,activation='relu'))\n",
    "model.add(layers.Dense(train_generator.num_classes,activation='softmax'))"
   ]
  },
  {
   "cell_type": "code",
   "execution_count": 8,
   "metadata": {},
   "outputs": [
    {
     "name": "stdout",
     "output_type": "stream",
     "text": [
      "Model: \"sequential\"\n",
      "_________________________________________________________________\n",
      " Layer (type)                Output Shape              Param #   \n",
      "=================================================================\n",
      " conv2d (Conv2D)             (None, 126, 126, 32)      896       \n",
      "                                                                 \n",
      " max_pooling2d (MaxPooling2D  (None, 63, 63, 32)       0         \n",
      " )                                                               \n",
      "                                                                 \n",
      " conv2d_1 (Conv2D)           (None, 61, 61, 64)        18496     \n",
      "                                                                 \n",
      " max_pooling2d_1 (MaxPooling  (None, 30, 30, 64)       0         \n",
      " 2D)                                                             \n",
      "                                                                 \n",
      " flatten (Flatten)           (None, 57600)             0         \n",
      "                                                                 \n",
      " dense (Dense)               (None, 256)               14745856  \n",
      "                                                                 \n",
      " dense_1 (Dense)             (None, 40)                10280     \n",
      "                                                                 \n",
      "=================================================================\n",
      "Total params: 14,775,528\n",
      "Trainable params: 14,775,528\n",
      "Non-trainable params: 0\n",
      "_________________________________________________________________\n"
     ]
    }
   ],
   "source": [
    "model.summary()"
   ]
  },
  {
   "cell_type": "code",
   "execution_count": 9,
   "metadata": {},
   "outputs": [],
   "source": [
    "model.compile(optimizer='adam',\n",
    "            loss='categorical_crossentropy',\n",
    "            metrics=['accuracy'])"
   ]
  },
  {
   "cell_type": "code",
   "execution_count": 10,
   "metadata": {},
   "outputs": [
    {
     "name": "stdout",
     "output_type": "stream",
     "text": [
      "Epoch 1/5\n",
      "397/397 [==============================] - 199s 497ms/step - loss: 3.1934 - accuracy: 0.1502 - val_loss: 2.3910 - val_accuracy: 0.3163\n",
      "Epoch 2/5\n",
      "397/397 [==============================] - 145s 366ms/step - loss: 1.7455 - accuracy: 0.5028 - val_loss: 1.5994 - val_accuracy: 0.5153\n",
      "Epoch 3/5\n",
      "397/397 [==============================] - 128s 321ms/step - loss: 0.7016 - accuracy: 0.7968 - val_loss: 1.3987 - val_accuracy: 0.6054\n",
      "Epoch 4/5\n",
      "397/397 [==============================] - 124s 312ms/step - loss: 0.2023 - accuracy: 0.9461 - val_loss: 1.4749 - val_accuracy: 0.6616\n",
      "Epoch 5/5\n",
      "397/397 [==============================] - 121s 306ms/step - loss: 0.1007 - accuracy: 0.9756 - val_loss: 1.7181 - val_accuracy: 0.5952\n"
     ]
    }
   ],
   "source": [
    "history =model.fit(\n",
    "    train_generator,\n",
    "    steps_per_epoch=train_generator.samples // batch_size,\n",
    "    epochs=5,\n",
    "    validation_data=validation_generator,\n",
    "    validation_steps=validation_generator.samples// batch_size\n",
    ")"
   ]
  },
  {
   "cell_type": "code",
   "execution_count": 11,
   "metadata": {},
   "outputs": [
    {
     "name": "stdout",
     "output_type": "stream",
     "text": [
      "Evaluating model...\n"
     ]
    },
    {
     "name": "stdout",
     "output_type": "stream",
     "text": [
      "98/98 [==============================] - 8s 78ms/step - loss: 1.7191 - accuracy: 0.5944\n",
      "Validation Accuracy:59.44%\n"
     ]
    }
   ],
   "source": [
    "print('Evaluating model...')\n",
    "val_loss,val_accuracy = model.evaluate(validation_generator,steps=validation_generator.samples // batch_size)\n",
    "print(f'Validation Accuracy:{val_accuracy * 100:.2f}%')"
   ]
  },
  {
   "cell_type": "code",
   "execution_count": 12,
   "metadata": {},
   "outputs": [
    {
     "data": {
      "image/png": "[encoded data removed]",
      "text/plain": [
       "<Figure size 640x480 with 1 Axes>"
      ]
     },
     "metadata": {},
     "output_type": "display_data"
    },
    {
     "data": {
      "image/png": "[encoded data removed]",
      "text/plain": [
       "<Figure size 640x480 with 1 Axes>"
      ]
     },
     "metadata": {},
     "output_type": "display_data"
    }
   ],
   "source": [
    "plt.plot(history.history['accuracy'])\n",
    "plt.plot(history.history['val_accuracy'])\n",
    "plt.title('Model Accuracy')\n",
    "plt.ylabel('Accuracy')\n",
    "plt.xlabel('Epoch')\n",
    "plt.legend(['Train','Test'],loc='upper left')\n",
    "plt.show()\n",
    "\n",
    "plt.plot(history.history['loss'])\n",
    "plt.plot(history.history['val_loss'])\n",
    "plt.title('Model loss')\n",
    "plt.ylabel('Loss')\n",
    "plt.xlabel('Epoch')\n",
    "plt.legend(['Train','Test'],loc='upper left')\n",
    "plt.show()"
   ]
  },
  {
   "cell_type": "code",
   "execution_count": 13,
   "metadata": {},
   "outputs": [],
   "source": [
    "def load_and_preprocess_image(image_path,target_size=(128,128)):\n",
    "    img=Image.open(image_path)\n",
    "    img=img.resize(target_size)\n",
    "    img_array=np.array(img)\n",
    "    img_array=np.expand_dims(img_array,axis=0)\n",
    "    img_array=img_array.astype('float32')/255.\n",
    "    return img_array\n"
   ]
  },
  {
   "cell_type": "code",
   "execution_count": 14,
   "metadata": {},
   "outputs": [],
   "source": [
    "def predict_image_class(model,image_path,class_indices):\n",
    "    preprocessed_img = load_and_preprocess_image(image_path)\n",
    "    predictions = model.predict(preprocessed_img)\n",
    "    predicted_class_index=np.argmax(predictions,axis=1)[0]\n",
    "    predicted_class_name=class_indices[predicted_class_index]\n",
    "    return predicted_class_name"
   ]
  },
  {
   "cell_type": "code",
   "execution_count": 15,
   "metadata": {},
   "outputs": [],
   "source": [
    "class_indices={v:k for k, v in train_generator.class_indices.items()}"
   ]
  },
  {
   "cell_type": "code",
   "execution_count": 16,
   "metadata": {},
   "outputs": [
    {
     "data": {
      "text/plain": [
       "{0: 'Aloevera',\n",
       " 1: 'Amla',\n",
       " 2: 'Amruta_Balli',\n",
       " 3: 'Arali',\n",
       " 4: 'Ashoka',\n",
       " 5: 'Ashwagandha',\n",
       " 6: 'Avacado',\n",
       " 7: 'Bamboo',\n",
       " 8: 'Basale',\n",
       " 9: 'Betel',\n",
       " 10: 'Betel_Nut',\n",
       " 11: 'Brahmi',\n",
       " 12: 'Castor',\n",
       " 13: 'Curry_Leaf',\n",
       " 14: 'Doddapatre',\n",
       " 15: 'Ekka',\n",
       " 16: 'Ganike',\n",
       " 17: 'Gauva',\n",
       " 18: 'Geranium',\n",
       " 19: 'Henna',\n",
       " 20: 'Hibiscus',\n",
       " 21: 'Honge',\n",
       " 22: 'Insulin',\n",
       " 23: 'Jasmine',\n",
       " 24: 'Lemon',\n",
       " 25: 'Lemon_grass',\n",
       " 26: 'Mango',\n",
       " 27: 'Mint',\n",
       " 28: 'Nagadali',\n",
       " 29: 'Neem',\n",
       " 30: 'Nithyapushpa',\n",
       " 31: 'Nooni',\n",
       " 32: 'Pappaya',\n",
       " 33: 'Pepper',\n",
       " 34: 'Pomegranate',\n",
       " 35: 'Raktachandini',\n",
       " 36: 'Rose',\n",
       " 37: 'Sapota',\n",
       " 38: 'Tulasi',\n",
       " 39: 'Wood_sorel'}"
      ]
     },
     "execution_count": 16,
     "metadata": {},
     "output_type": "execute_result"
    }
   ],
   "source": [
    "class_indices"
   ]
  },
  {
   "cell_type": "code",
   "execution_count": 17,
   "metadata": {},
   "outputs": [],
   "source": [
    "json.dump(class_indices,open('class_indices.json','w'))"
   ]
  },
  {
   "cell_type": "code",
   "execution_count": 18,
   "metadata": {},
   "outputs": [
    {
     "name": "stdout",
     "output_type": "stream",
     "text": [
      "1/1 [==============================] - 0s 203ms/step\n",
      "Predicted class Name: Arali\n"
     ]
    }
   ],
   "source": [
    "image_path='Medicinal plant dataset/Arali/352.jpg'\n",
    "predicted_class_name=predict_image_class(model,image_path,class_indices)\n",
    "\n",
    "print(\"Predicted class Name:\",predicted_class_name)"
   ]
  },
  {
   "cell_type": "code",
   "execution_count": 21,
   "metadata": {},
   "outputs": [],
   "source": [
    "model_version = 1\n",
    "model.save(\"plant_detect1.keras\")"
   ]
  },
  {
   "cell_type": "code",
   "execution_count": 20,
   "metadata": {},
   "outputs": [
    {
     "name": "stdout",
     "output_type": "stream",
     "text": [
      "Name: scipyNote: you may need to restart the kernel to use updated packages.\n",
      "\n",
      "Version: 1.11.1\n",
      "Summary: SciPy: Scientific Library for Python\n",
      "Home-page: https://www.scipy.org\n",
      "Author: \n",
      "Author-email: \n",
      "License: BSD\n",
      "Location: c:\\Users\\Hp\\anaconda5\\Lib\\site-packages\n",
      "Requires: numpy\n",
      "Required-by: datashader, gensim, imbalanced-learn, jax, scikit-image, scikit-learn, statsmodels\n"
     ]
    }
   ],
   "source": [
    "pip show scipy"
   ]
  }
 ],
 "metadata": {
  "accelerator": "GPU",
  "colab": {
   "collapsed_sections": [],
   "provenance": []
  },
  "kernelspec": {
   "display_name": "Python 3 (ipykernel)",
   "language": "python",
   "name": "python3"
  },
  "language_info": {
   "codemirror_mode": {
    "name": "ipython",
    "version": 3
   },
   "file_extension": ".py",
   "mimetype": "text/x-python",
   "name": "python",
   "nbconvert_exporter": "python",
   "pygments_lexer": "ipython3",
   "version": "3.11.5"
  }
 },
 "nbformat": 4,
 "nbformat_minor": 1
}
